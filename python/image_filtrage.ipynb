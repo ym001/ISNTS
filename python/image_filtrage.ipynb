{
  "nbformat": 4,
  "nbformat_minor": 0,
  "metadata": {
    "colab": {
      "name": "Untitled3.ipynb",
      "provenance": [],
      "authorship_tag": "ABX9TyNAdQiY5DF/l1atRa6PyqD4",
      "include_colab_link": true
    },
    "kernelspec": {
      "name": "python3",
      "display_name": "Python 3"
    }
  },
  "cells": [
    {
      "cell_type": "markdown",
      "metadata": {
        "id": "view-in-github",
        "colab_type": "text"
      },
      "source": [
        "<a href=\"https://colab.research.google.com/github/ym001/ISNTS/blob/master/python/image_filtrage.ipynb\" target=\"_parent\"><img src=\"https://colab.research.google.com/assets/colab-badge.svg\" alt=\"Open In Colab\"/></a>"
      ]
    },
    {
      "cell_type": "markdown",
      "metadata": {
        "id": "5RnnErNlnpky",
        "colab_type": "text"
      },
      "source": [
        "Filtrage de couleur"
      ]
    },
    {
      "cell_type": "code",
      "metadata": {
        "id": "PpqCb_eje-hU",
        "colab_type": "code",
        "outputId": "8cfa71a1-6eb7-4e1e-9576-961fd76f6a56",
        "colab": {
          "base_uri": "https://localhost:8080/",
          "height": 256
        }
      },
      "source": [
        "from PIL import Image               # to load images\n",
        "from IPython.display import display # to display images\n",
        "import os\n",
        "from google.colab import drive\n",
        "drive.mount('/content/gdrive')\n",
        "print(os.listdir('./gdrive/My Drive/'))\n",
        "print(os.getcwd())\n",
        "imgage_originale = Image.open(\"./gdrive/My Drive/image1.png\")\n",
        "display(imgage_originale)\n",
        "largeur=imgage_originale.size[0]\n",
        "hauteur=imgage_originale.size[1]\n",
        "image_filtrage_rvb = Image.new(\"RGB\",(largeur,hauteur))\n",
        "\n",
        "for x in range(largeur):    # pour tous les pixels\n",
        "  for y in range(hauteur):\n",
        "    rouge,vert,bleu,i=imgage_originale.getpixel((x,y))\n",
        "    image_filtrage_rvb.putpixel((x, y), (rouge,0,0))\n",
        "display(image_filtrage_rvb)"
      ],
      "execution_count": 20,
      "outputs": [
        {
          "output_type": "stream",
          "text": [
            "Drive already mounted at /content/gdrive; to attempt to forcibly remount, call drive.mount(\"/content/gdrive\", force_remount=True).\n",
            "['Colab Notebooks', 'ecole_yves', 'image1.png']\n",
            "/content\n"
          ],
          "name": "stdout"
        },
        {
          "output_type": "display_data",
          "data": {
            "image/png": "[encoded data removed]",
            "text/plain": [
              "<PIL.PngImagePlugin.PngImageFile image mode=RGBA size=272x92 at 0x7F181B965438>"
            ]
          },
          "metadata": {
            "tags": []
          }
        },
        {
          "output_type": "display_data",
          "data": {
            "image/png": "[encoded data removed]",
            "text/plain": [
              "<PIL.Image.Image image mode=RGB size=272x92 at 0x7F181C3AFBA8>"
            ]
          },
          "metadata": {
            "tags": []
          }
        }
      ]
    },
    {
      "cell_type": "markdown",
      "metadata": {
        "id": "XoxDmWRinlPg",
        "colab_type": "text"
      },
      "source": [
        "Filtrage par convolution"
      ]
    },
    {
      "cell_type": "code",
      "metadata": {
        "id": "1mGjK532m5od",
        "colab_type": "code",
        "colab": {
          "base_uri": "https://localhost:8080/",
          "height": 109
        },
        "outputId": "6cef2ea1-fcb6-4b3b-81dc-080bdc90a4cc"
      },
      "source": [
        "image_filtrage_convolution = Image.new(\"RGB\",(largeur,hauteur))\n",
        "for y in range(1,hauteur-1):\n",
        "\tfor x in range(1,largeur-1):\n",
        "\t\tpix0 = img.getpixel((x,y))\n",
        "\t\tpix1 = img.getpixel((x-1,y-1))\n",
        "\t\tpix2 = img.getpixel((x,y-1))\n",
        "\t\tpix3 = img.getpixel((x+1,y-1))\n",
        "\t\tpix4 = img.getpixel((x-1,y))\n",
        "\t\tpix5 = img.getpixel((x+1,y))\n",
        "\t\tpix6 = img.getpixel((x-1,y+1))\n",
        "\t\tpix7 = img.getpixel((x,y+1))\n",
        "\t\tpix8 = img.getpixel((x+1,y+1))\n",
        "\t\tr = 8*pix0[0]-pix1[0]-pix2[0]-pix3[0]-pix4[0]-pix5[0]-pix6[0]-pix7[0]-pix8[0]\n",
        "\t\tv = r\n",
        "\t\tb = r\n",
        "\t\timage_filtrage_convolution.putpixel((x,y),(r,v,b))\n",
        "display(image_filtrage_convolution)"
      ],
      "execution_count": 21,
      "outputs": [
        {
          "output_type": "display_data",
          "data": {
            "image/png": "[encoded data removed]",
            "text/plain": [
              "<PIL.Image.Image image mode=RGB size=272x92 at 0x7F181B965278>"
            ]
          },
          "metadata": {
            "tags": []
          }
        }
      ]
    }
  ]
}